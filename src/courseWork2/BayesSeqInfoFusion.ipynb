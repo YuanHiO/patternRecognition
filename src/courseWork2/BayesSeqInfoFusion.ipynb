{
 "cells": [
  {
   "cell_type": "code",
   "metadata": {
    "ExecuteTime": {
     "end_time": "2024-11-05T04:36:02.726202Z",
     "start_time": "2024-11-05T04:36:02.723026Z"
    }
   },
   "source": [
    "import cv2\n",
    "import numpy as np\n",
    "from sklearn.naive_bayes import GaussianNB\n",
    "from sklearn.model_selection import train_test_split, cross_val_score\n",
    "from sklearn.preprocessing import StandardScaler\n",
    "from sklearn.metrics import accuracy_score, confusion_matrix\n",
    "import matplotlib.pyplot as plt\n"
   ],
   "outputs": [],
   "execution_count": 17
  },
  {
   "cell_type": "code",
   "metadata": {
    "ExecuteTime": {
     "end_time": "2024-11-05T04:36:02.745697Z",
     "start_time": "2024-11-05T04:36:02.730732Z"
    }
   },
   "source": [
    "\n",
    "# Load image and mask\n",
    "image_bgr = cv2.imread('../../data/imgs/1066.png')\n",
    "image_rgb = cv2.cvtColor(image_bgr, cv2.COLOR_BGR2RGB)\n",
    "mask = cv2.imread('../../data/imgs/mask1066.png', cv2.IMREAD_GRAYSCALE)\n",
    "\n",
    "# Set binary labels for mask (1 for road, 0 for non-road)\n",
    "Y = mask.flatten()\n",
    "Y = np.where(Y > 128, 1, 0)"
   ],
   "outputs": [],
   "execution_count": 18
  },
  {
   "cell_type": "code",
   "metadata": {
    "ExecuteTime": {
     "end_time": "2024-11-05T04:36:14.997016Z",
     "start_time": "2024-11-05T04:36:02.754703Z"
    }
   },
   "source": [
    "# Define parameters for foreground (road) and background (non-road) based on prior knowledge or statistics\n",
    "foreground_params = {\n",
    "    'mean_rgb': np.array([150, 150, 150]),\n",
    "    'std_rgb': np.array([20, 20, 20]),\n",
    "    'mean_hsv': np.array([90, 60, 60]),\n",
    "    'std_hsv': np.array([15, 15, 15]),\n",
    "    'mean_lab': np.array([145, 128, 128]),\n",
    "    'std_lab': np.array([10, 10, 10])\n",
    "}\n",
    "\n",
    "background_params = {\n",
    "    'mean_rgb': np.array([60, 60, 60]),\n",
    "    'std_rgb': np.array([10, 10, 10]),\n",
    "    'mean_hsv': np.array([0, 0, 50]),\n",
    "    'std_hsv': np.array([10, 10, 10]),\n",
    "    'mean_lab': np.array([80, 128, 128]),\n",
    "    'std_lab': np.array([10, 10, 10])\n",
    "}\n",
    "\n",
    "\n",
    "# Function to calculate probability for each color channel in a block given the mean and std deviation\n",
    "def calculate_probability(block, mean, std):\n",
    "    # Convert mean and std to numpy arrays to avoid issues with sequence multiplication\n",
    "    mean = np.array(mean)\n",
    "    std = np.array(std)\n",
    "    \n",
    "    # Calculate the Gaussian probability for each channel in the block\n",
    "    prob_rgb = np.exp(-0.5 * ((block - mean) / std) ** 2) / (std * np.sqrt(2 * np.pi))\n",
    "    return np.prod(prob_rgb)  # Use np.prod to multiply across RGB channels\n",
    "\n",
    "\n",
    "# Bayesian segmentation function\n",
    "def bayesian_segment(image, fg_params, bg_params, block_size=5):\n",
    "    height, width, _ = image.shape\n",
    "    segmented_image = np.zeros((height, width), dtype=np.uint8)\n",
    "\n",
    "    for i in range(0, height - block_size + 1):\n",
    "        for j in range(0, width - block_size + 1):\n",
    "            # Extract block\n",
    "            block = image[i:i + block_size, j:j + block_size]\n",
    "\n",
    "            # Compute mean and variance of RGB, HSV, and LAB for the block\n",
    "            mean_rgb = np.mean(block, axis=(0, 1))\n",
    "            var_rgb = np.var(block, axis=(0, 1))\n",
    "            mean_hsv = np.mean(cv2.cvtColor(block, cv2.COLOR_RGB2HSV), axis=(0, 1))\n",
    "            var_hsv = np.var(cv2.cvtColor(block, cv2.COLOR_RGB2HSV), axis=(0, 1))\n",
    "            mean_lab = np.mean(cv2.cvtColor(block, cv2.COLOR_RGB2LAB), axis=(0, 1))\n",
    "            var_lab = np.var(cv2.cvtColor(block, cv2.COLOR_RGB2LAB), axis=(0, 1))\n",
    "\n",
    "            # Calculate probability for foreground\n",
    "            p_fg_rgb = calculate_probability(mean_rgb, fg_params['mean_rgb'], fg_params['std_rgb'])\n",
    "            p_fg_hsv = calculate_probability(mean_hsv, fg_params['mean_hsv'], fg_params['std_hsv'])\n",
    "            p_fg_lab = calculate_probability(mean_lab, fg_params['mean_lab'], fg_params['std_lab'])\n",
    "            p_fg = p_fg_rgb * p_fg_lab\n",
    "\n",
    "            # Calculate probability for background\n",
    "            p_bg_rgb = calculate_probability(mean_rgb, bg_params['mean_rgb'], bg_params['std_rgb'])\n",
    "            p_bg_hsv = calculate_probability(mean_hsv, bg_params['mean_hsv'], bg_params['std_hsv'])\n",
    "            p_bg_lab = calculate_probability(mean_lab, bg_params['mean_lab'], bg_params['std_lab'])\n",
    "            p_bg = p_bg_rgb * p_bg_lab\n",
    "\n",
    "            \n",
    "\n",
    "            # Decide class based on maximum posterior probability\n",
    "            label = 1 if p_fg > p_bg else 0\n",
    "            segmented_image[i + block_size // 2, j + block_size // 2] = label * 255\n",
    "\n",
    "    return segmented_image\n",
    "\n",
    "\n",
    "# Segment the image using the Bayesian approach\n",
    "segmented_image = bayesian_segment(image_rgb, foreground_params, background_params)\n",
    "\n",
    "# # Display segmented image\n",
    "# plt.imshow(segmented_image, cmap='gray')\n",
    "# plt.title(\"Bayesian Segmented Image\")\n",
    "# plt.show()\n",
    "\n",
    "\n",
    "# Post-process the segmented image\n",
    "def post_process(segmented_image, kernel_size=3, min_area=100):\n",
    "    # Morphological operations to clean up segmentation\n",
    "    kernel = cv2.getStructuringElement(cv2.MORPH_ELLIPSE, (kernel_size, kernel_size))\n",
    "    opened = cv2.morphologyEx(segmented_image, cv2.MORPH_OPEN, kernel)\n",
    "    closed = cv2.morphologyEx(opened, cv2.MORPH_CLOSE, kernel)\n",
    "\n",
    "    # Connected component analysis\n",
    "    num_labels, labels, stats, centroids = cv2.connectedComponentsWithStats(closed, connectivity=8)\n",
    "    processed_image = np.zeros_like(segmented_image, dtype=np.uint8)\n",
    "\n",
    "    # Retain large connected components\n",
    "    for i in range(1, num_labels):\n",
    "        if stats[i, cv2.CC_STAT_AREA] >= min_area:\n",
    "            processed_image[labels == i] = 255\n",
    "\n",
    "    return processed_image\n",
    "\n",
    "\n",
    "# Apply post-processing\n",
    "processed_segmented_image = post_process(segmented_image)\n"
   ],
   "outputs": [],
   "execution_count": 19
  },
  {
   "cell_type": "code",
   "metadata": {
    "ExecuteTime": {
     "end_time": "2024-11-05T04:36:15.117133Z",
     "start_time": "2024-11-05T04:36:15.011063Z"
    }
   },
   "source": [
    "from sklearn.metrics import accuracy_score, precision_score, recall_score, confusion_matrix\n",
    "\n",
    "# Flatten the ground truth and predicted images for evaluation\n",
    "ground_truth = mask.flatten() // 255  # Assuming mask is in 0 and 255, convert to 0 and 1\n",
    "predicted = processed_segmented_image.flatten() // 255  # Assuming segmented result is also in 0 and 255\n",
    "\n",
    "# Calculate accuracy, precision, recall, and confusion matrix\n",
    "accuracy = accuracy_score(ground_truth, predicted)\n",
    "precision = precision_score(ground_truth, predicted)\n",
    "recall = recall_score(ground_truth, predicted)\n",
    "conf_matrix = confusion_matrix(ground_truth, predicted)\n",
    "\n",
    "print(\"Accuracy:\", accuracy)\n",
    "print(\"Precision:\", precision)\n",
    "print(\"Recall:\", recall)\n",
    "print(\"Confusion Matrix:\\n\", conf_matrix)\n",
    "\n",
    "# Display metrics\n",
    "plt.imshow(processed_segmented_image, cmap='gray')\n",
    "plt.title(f\"Processed Segmented Image\\nAccuracy: {accuracy:.2f}, Precision: {precision:.2f}, Recall: {recall:.2f}\")\n",
    "plt.show()\n"
   ],
   "outputs": [
    {
     "name": "stdout",
     "output_type": "stream",
     "text": [
      "Accuracy: 0.636648\n",
      "Precision: 0.32869683219541157\n",
      "Recall: 0.5297836710980486\n",
      "Confusion Matrix:\n",
      " [[64079 31660]\n",
      " [13759 15502]]\n"
     ]
    },
    {
     "data": {
      "text/plain": [
       "<Figure size 640x480 with 1 Axes>"
      ],
      "image/png": "[encoded data removed]"
     },
     "metadata": {},
     "output_type": "display_data"
    }
   ],
   "execution_count": 20
  }
 ],
 "metadata": {
  "kernelspec": {
   "display_name": "PatternRecognition",
   "language": "python",
   "name": "python3"
  },
  "language_info": {
   "codemirror_mode": {
    "name": "ipython",
    "version": 3
   },
   "file_extension": ".py",
   "mimetype": "text/x-python",
   "name": "python",
   "nbconvert_exporter": "python",
   "pygments_lexer": "ipython3",
   "version": "3.11.10"
  }
 },
 "nbformat": 4,
 "nbformat_minor": 2
}
