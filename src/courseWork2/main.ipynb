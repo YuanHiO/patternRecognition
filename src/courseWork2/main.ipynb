{
 "cells": [
  {
   "cell_type": "code",
   "metadata": {
    "ExecuteTime": {
     "end_time": "2024-11-05T02:28:32.848764Z",
     "start_time": "2024-11-05T02:28:27.060643Z"
    }
   },
   "source": [
    "import cv2\n",
    "import numpy as np\n",
    "from sklearn.naive_bayes import GaussianNB\n",
    "from sklearn.model_selection import train_test_split, cross_val_score\n",
    "from sklearn.preprocessing import StandardScaler\n",
    "from sklearn.metrics import accuracy_score, confusion_matrix\n",
    "import matplotlib.pyplot as plt\n",
    "\n",
    "# image read\n",
    "image_bgr = cv2.imread('../../data/imgs/0618.png')\n",
    "image_rgb = cv2.cvtColor(image_bgr,cv2.COLOR_BGR2RGB)\n",
    "\n",
    "# mask read\n",
    "mask = cv2.imread('../../data/imgs/mask0618.png',cv2.IMREAD_GRAYSCALE)\n",
    "Y = mask.flatten()\n",
    "Y = np.where(Y > 128, 1, 0) # 1 road, 0 not-road\n"
   ],
   "outputs": [],
   "execution_count": 1
  },
  {
   "cell_type": "code",
   "metadata": {
    "ExecuteTime": {
     "end_time": "2024-11-05T02:34:44.164286Z",
     "start_time": "2024-11-05T02:34:16.292938Z"
    }
   },
   "source": [
    "# pixel to pixel_block\n",
    "block_size = 5\n",
    "def gaussian_kernel(size, sigma=1):\n",
    "    \"\"\"生成高斯滤波器\"\"\"\n",
    "    x, y = np.mgrid[-size//2 + 1:size//2 + 1, -size//2 + 1:size//2 + 1]\n",
    "    g = np.exp(-((x**2 + y**2) / (2.0*sigma**2)))\n",
    "    return g / g.sum()\n",
    "\n",
    "gaussian = gaussian_kernel(5, sigma=1)\n",
    "\n",
    "kernels = [\n",
    "    gaussian,  # 高斯滤波器\n",
    "    np.array([[-1, 0, 1], [-2, 0, 2], [-1, 0, 1]], dtype=np.float32),  # Sobel X\n",
    "    np.array([[-1, -2, -1], [0, 0, 0], [1, 2, 1]], dtype=np.float32)   # Sobel Y\n",
    "]\n",
    "\n",
    "# image size\n",
    "height, width, _ = image_rgb.shape\n",
    "\n",
    "features = []\n",
    "labels = []\n",
    "\n",
    "for i in range(0, height - block_size + 1, 1):\n",
    "    for j in range(0, width - block_size + 1, 1):\n",
    "\n",
    "        block = image_rgb[i:i+block_size, j:j+block_size]\n",
    "\n",
    "        feature_vector = []\n",
    "\n",
    "        # 应用卷积核到不同的颜色空间\n",
    "        for color_space in ['RGB', 'HSV', 'LAB']:\n",
    "            if color_space == 'RGB':\n",
    "                block_color = block\n",
    "            elif color_space == 'HSV':\n",
    "                block_color = cv2.cvtColor(block, cv2.COLOR_RGB2HSV)\n",
    "            elif color_space == 'LAB':\n",
    "                block_color = cv2.cvtColor(block, cv2.COLOR_RGB2LAB)\n",
    "\n",
    "            for kernel in kernels:\n",
    "                for channel in range(block_color.shape[2]):\n",
    "                    # 对每个通道应用卷积核\n",
    "                    conv_result = cv2.filter2D(block_color[:,:,channel], -1, kernel)\n",
    "                    # 将卷积结果的平均值添加到特征向量中\n",
    "                    feature_vector.append(np.mean(conv_result))\n",
    "\n",
    "        # extract labels\n",
    "        block_mask = mask[i:i+block_size, j:j+block_size].flatten()\n",
    "        # use center point\n",
    "        label = 1 if mask[i+block_size//2,j+block_size//2] > 0.5 else 0\n",
    "        # 如果块内超过一半的像素被标记，则该块标记为1，否则为0\n",
    "        # label = 1 if np.sum(block_mask) > (block_size * block_size / 2) else 0\n",
    "\n",
    "        features.append(feature_vector)\n",
    "        labels.append(label)"
   ],
   "outputs": [],
   "execution_count": 2
  },
  {
   "cell_type": "code",
   "metadata": {
    "ExecuteTime": {
     "end_time": "2024-11-05T02:34:49.328720Z",
     "start_time": "2024-11-05T02:34:49.216838Z"
    }
   },
   "source": [
    "\n",
    "X = np.array(features)\n",
    "y = np.array(labels)\n"
   ],
   "outputs": [],
   "execution_count": 3
  },
  {
   "cell_type": "code",
   "metadata": {
    "ExecuteTime": {
     "end_time": "2024-11-05T02:34:51.556488Z",
     "start_time": "2024-11-05T02:34:51.550704Z"
    }
   },
   "source": [
    "X.shape"
   ],
   "outputs": [
    {
     "data": {
      "text/plain": [
       "(122016, 27)"
      ]
     },
     "execution_count": 4,
     "metadata": {},
     "output_type": "execute_result"
    }
   ],
   "execution_count": 4
  },
  {
   "cell_type": "code",
   "metadata": {
    "ExecuteTime": {
     "end_time": "2024-11-05T02:35:20.440638Z",
     "start_time": "2024-11-05T02:35:20.020499Z"
    }
   },
   "source": [
    "\n",
    "X_train, X_test, y_train, y_test = train_test_split(X, y, test_size=0.25, random_state=42)\n",
    "\n",
    "scaler = StandardScaler()\n",
    "X_train = scaler.fit_transform(X_train)\n",
    "X_test = scaler.transform(X_test)\n",
    "\n",
    "gnb = GaussianNB()\n",
    "gnb.fit(X_train, y_train)\n",
    "# cross verify\n",
    "cv_scores = cross_val_score(gnb, X, y, cv=5)\n",
    "print(\"Cross-validation scores:\", cv_scores)\n",
    "print(\"Average cross-validation score:\", np.mean(cv_scores))\n",
    "\n",
    "\n",
    "y_pred = gnb.predict(X_test)\n",
    "\n",
    "print(\"Accuracy:\", accuracy_score(y_test, y_pred))\n",
    "\n",
    "print(\"Confusion Matrix:\\n\", confusion_matrix(y_test, y_pred))\n",
    "\n",
    "\n"
   ],
   "outputs": [
    {
     "name": "stdout",
     "output_type": "stream",
     "text": [
      "Cross-validation scores: [0.93960007 0.97602754 0.9919682  0.97397861 0.96479941]\n",
      "Average cross-validation score: 0.9692747645775883\n",
      "Accuracy: 0.9765932336742722\n",
      "Confusion Matrix:\n",
      " [[11930   308]\n",
      " [  406 17860]]\n"
     ]
    }
   ],
   "execution_count": 6
  },
  {
   "cell_type": "code",
   "metadata": {
    "ExecuteTime": {
     "end_time": "2024-11-05T02:37:07.934542Z",
     "start_time": "2024-11-05T02:36:28.878940Z"
    }
   },
   "source": [
    "# use model to split the image\n",
    "def segment_image(image, model, scaler, block_size=5):\n",
    "    height, width, _ = image.shape\n",
    "    segmented_image = np.zeros((height, width), dtype=np.uint8)\n",
    "    for i in range(height):\n",
    "        for j in range(width):\n",
    "            # Ensure that the border is not exceeded\n",
    "            top = max(0, i - block_size // 2)\n",
    "            bottom = min(height, i + block_size // 2 + 1)\n",
    "            left = max(0, j - block_size // 2)\n",
    "            right = min(width, j + block_size // 2 + 1)\n",
    "            \n",
    "            # extract data\n",
    "            block = image[top:bottom, left:right]\n",
    "            block = image_rgb[i:i+block_size, j:j+block_size]\n",
    "            feature_vector = []\n",
    "            for color_space in ['RGB', 'HSV', 'LAB']:\n",
    "                if color_space == 'RGB':\n",
    "                    block_color = block\n",
    "                elif color_space == 'HSV':\n",
    "                    block_color = cv2.cvtColor(block, cv2.COLOR_RGB2HSV)\n",
    "                elif color_space == 'LAB':\n",
    "                    block_color = cv2.cvtColor(block, cv2.COLOR_RGB2LAB)\n",
    "\n",
    "                for kernel in kernels:\n",
    "                    for channel in range(block_color.shape[2]):\n",
    "                        # 对每个通道应用卷积核\n",
    "                        conv_result = cv2.filter2D(block_color[:,:,channel], -1, kernel)\n",
    "                        # 将卷积结果的平均值添加到特征向量中\n",
    "                        feature_vector.append(np.mean(conv_result))\n",
    "\n",
    "            feature_vector = scaler.transform([feature_vector])\n",
    "            # predict\n",
    "            prediction = model.predict(feature_vector)\n",
    "            # update split-image\n",
    "            segmented_image[i, j] = prediction[0] * 255\n",
    "    \n",
    "    return segmented_image\n",
    "# load test image\n",
    "image_path = '../../data/imgs/0618.png'\n",
    "image = cv2.imread(image_path)\n",
    "image_rgb = cv2.cvtColor(image, cv2.COLOR_BGR2RGB)\n",
    "\n",
    "# split image\n",
    "segmented_image = segment_image(image_rgb, gnb, scaler)\n",
    "# image show\n",
    "plt.imshow(segmented_image, cmap='gray')\n",
    "plt.title(\"Segmented Image\")\n",
    "plt.show()\n",
    "# after pre-process\n",
    "def post_process(segmented_image, kernel_size=3, min_area=100):\n",
    "    # Open operation removes small noise points\n",
    "    kernel = cv2.getStructuringElement(cv2.MORPH_ELLIPSE, (kernel_size, kernel_size))\n",
    "    opened = cv2.morphologyEx(segmented_image, cv2.MORPH_OPEN, kernel)\n",
    "    \n",
    "    # Closed operation filling of small holes\n",
    "    closed = cv2.morphologyEx(opened, cv2.MORPH_CLOSE, kernel)\n",
    "    \n",
    "    # Connected area analysis\n",
    "    num_labels, labels, stats, centroids = cv2.connectedComponentsWithStats(closed, connectivity=8)\n",
    "    \n",
    "    # null image\n",
    "    processed_image = np.zeros_like(segmented_image, dtype=np.uint8)\n",
    "    \n",
    "    # Retain connected areas larger than min_area\n",
    "    for i in range(1, num_labels):\n",
    "        if stats[i, cv2.CC_STAT_AREA] >= min_area:\n",
    "            processed_image[labels == i] = 255\n",
    "    \n",
    "    return processed_image\n",
    "\n",
    "\n",
    "processed_segmented_image = post_process(segmented_image)\n",
    "# image show\n",
    "plt.imshow(processed_segmented_image, cmap='gray')\n",
    "plt.title(\"processed_segmented_image\")\n",
    "plt.show()"
   ],
   "outputs": [
    {
     "data": {
      "text/plain": [
       "<Figure size 640x480 with 1 Axes>"
      ],
      "image/png": "[encoded data removed]"
     },
     "metadata": {},
     "output_type": "display_data"
    },
    {
     "data": {
      "text/plain": [
       "<Figure size 640x480 with 1 Axes>"
      ],
      "image/png": "[encoded data removed]"
     },
     "metadata": {},
     "output_type": "display_data"
    }
   ],
   "execution_count": 7
  }
 ],
 "metadata": {
  "kernelspec": {
   "display_name": "main",
   "language": "python",
   "name": "python3"
  },
  "language_info": {
   "codemirror_mode": {
    "name": "ipython",
    "version": 3
   },
   "file_extension": ".py",
   "mimetype": "text/x-python",
   "name": "python",
   "nbconvert_exporter": "python",
   "pygments_lexer": "ipython3",
   "version": "3.11.10"
  }
 },
 "nbformat": 4,
 "nbformat_minor": 2
}
