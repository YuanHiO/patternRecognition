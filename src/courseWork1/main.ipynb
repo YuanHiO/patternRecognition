{
 "cells": [
  {
   "cell_type": "code",
   "id": "74ecaf10c8cbae61",
   "metadata": {
    "ExecuteTime": {
     "end_time": "2024-10-22T10:24:41.586727Z",
     "start_time": "2024-10-22T10:24:32.686634Z"
    }
   },
   "source": [
    "import cv2\n",
    "import numpy as np\n",
    "import pandas as pd\n",
    "from sklearn.model_selection import train_test_split\n",
    "from sklearn.preprocessing import StandardScaler\n",
    "from sklearn import svm\n",
    "from sklearn.metrics import accuracy_score\n",
    "import matplotlib.pyplot as plt\n",
    "from skimage.feature import graycomatrix, graycoprops"
   ],
   "outputs": [],
   "execution_count": 1
  },
  {
   "cell_type": "code",
   "id": "6360f98901c355d2",
   "metadata": {
    "ExecuteTime": {
     "end_time": "2024-10-22T10:24:41.620620Z",
     "start_time": "2024-10-22T10:24:41.596653Z"
    }
   },
   "source": [
    "# 加载图像\n",
    "image = cv2.imread('../data/imgs/1066.png')\n",
    "# 转换为RGB格式（opencv读取为BGR）\n",
    "image_rgb = cv2.cvtColor(image, cv2.COLOR_BGR2RGB)"
   ],
   "outputs": [],
   "execution_count": 2
  },
  {
   "cell_type": "code",
   "id": "6cc6bfcfd9962e53",
   "metadata": {
    "ExecuteTime": {
     "end_time": "2024-10-22T10:24:41.628120Z",
     "start_time": "2024-10-22T10:24:41.624628Z"
    }
   },
   "source": [
    "# 加载生成的掩码\n",
    "mask = cv2.imread('../data/imgs/mask1066.png', cv2.IMREAD_GRAYSCALE)"
   ],
   "outputs": [],
   "execution_count": 3
  },
  {
   "cell_type": "code",
   "id": "dec2f6ef",
   "metadata": {
    "ExecuteTime": {
     "end_time": "2024-10-22T10:24:42.160800Z",
     "start_time": "2024-10-22T10:24:42.145265Z"
    }
   },
   "source": [
    "Y = mask.flatten()\n",
    "Y = np.where(Y > 128, 1, 0)  # 1为道路，0为非道路\n",
    "# 将数组转换为Pandas Series\n",
    "series = pd.Series(Y)\n",
    "# 使用value_counts方法统计每个元素的出现次数\n",
    "value_counts = series.value_counts()\n",
    "# 输出分布情况\n",
    "print(value_counts)"
   ],
   "outputs": [
    {
     "name": "stdout",
     "output_type": "stream",
     "text": [
      "0    95739\n",
      "1    29261\n",
      "Name: count, dtype: int64\n"
     ]
    }
   ],
   "execution_count": 4
  },
  {
   "cell_type": "code",
   "id": "d79a419c00e0aace",
   "metadata": {
    "ExecuteTime": {
     "end_time": "2024-10-22T10:24:42.606590Z",
     "start_time": "2024-10-22T10:24:42.243052Z"
    }
   },
   "source": [
    "# 获取图像的尺寸\n",
    "h, w, _ = image_rgb.shape\n",
    "# 将掩码展开为一维向量\n",
    "# Y = mask.flatten()\n",
    "# Y = np.where(Y > 128, 1, 0)  # 1为道路，0为非道路\n",
    "# 转换到HSV颜色空间\n",
    "image_hsv = cv2.cvtColor(image_rgb, cv2.COLOR_RGB2HSV)\n",
    "\n",
    "# 转换到灰度图像\n",
    "image_gray = cv2.cvtColor(image_rgb, cv2.COLOR_RGB2GRAY)\n",
    "\n",
    "# 计算灰度共生矩阵 (GLCM)\n",
    "glcm = graycomatrix(image_gray, distances=[1], angles=[0, np.pi/4, np.pi/2, 3*np.pi/4], levels=256, symmetric=True, normed=True)\n",
    "\n",
    "# 提取纹理特征\n",
    "contrast = graycoprops(glcm, 'contrast')\n",
    "dissimilarity = graycoprops(glcm, 'dissimilarity')\n",
    "homogeneity = graycoprops(glcm, 'homogeneity')\n",
    "energy = graycoprops(glcm, 'energy')\n",
    "correlation = graycoprops(glcm, 'correlation')\n",
    "ASM = graycoprops(glcm, 'ASM')\n",
    "\n",
    "# 构建特征向量 (R, G, B, H, S, V, x, y, contrast, dissimilarity, homogeneity, energy, correlation, ASM)\n",
    "X = []\n",
    "for i in range(h):\n",
    "    for j in range(w):\n",
    "        pixel = image_rgb[i, j]\n",
    "        hsv_pixel = image_hsv[i, j]\n",
    "        \n",
    "        # 获取当前像素点的纹理特征\n",
    "        texture_features = [\n",
    "            contrast[0, 0], dissimilarity[0, 0], homogeneity[0, 0],\n",
    "            energy[0, 0], correlation[0, 0], ASM[0, 0]\n",
    "        ]\n",
    "        \n",
    "        X.append([\n",
    "            pixel[0], pixel[1], pixel[2], \n",
    "            hsv_pixel[0], hsv_pixel[1], hsv_pixel[2], \n",
    "            # i, j,\n",
    "            *texture_features\n",
    "        ])\n",
    "\n",
    "# 将 X 转换为 numpy 数组\n",
    "X = np.array(X)\n",
    "\n",
    "# 打印特征向量的形状\n",
    "print(\"Feature vector shape:\", X.shape)\n",
    "print(X)\n"
   ],
   "outputs": [
    {
     "name": "stdout",
     "output_type": "stream",
     "text": [
      "Feature vector shape: (125000, 12)\n",
      "[[6.90000000e+01 8.50000000e+01 1.00000000e+02 ... 9.75531255e-02\n",
      "  9.95130023e-01 9.51661229e-03]\n",
      " [7.10000000e+01 8.70000000e+01 1.02000000e+02 ... 9.75531255e-02\n",
      "  9.95130023e-01 9.51661229e-03]\n",
      " [7.40000000e+01 8.90000000e+01 1.04000000e+02 ... 9.75531255e-02\n",
      "  9.95130023e-01 9.51661229e-03]\n",
      " ...\n",
      " [3.60000000e+01 3.80000000e+01 2.90000000e+01 ... 9.75531255e-02\n",
      "  9.95130023e-01 9.51661229e-03]\n",
      " [3.90000000e+01 4.20000000e+01 3.20000000e+01 ... 9.75531255e-02\n",
      "  9.95130023e-01 9.51661229e-03]\n",
      " [3.90000000e+01 4.10000000e+01 3.20000000e+01 ... 9.75531255e-02\n",
      "  9.95130023e-01 9.51661229e-03]]\n"
     ]
    }
   ],
   "execution_count": 5
  },
  {
   "cell_type": "code",
   "id": "4d890bcb",
   "metadata": {
    "ExecuteTime": {
     "end_time": "2024-10-22T10:24:42.750668Z",
     "start_time": "2024-10-22T10:24:42.706434Z"
    }
   },
   "source": [
    "# 划分训练集和测试集\n",
    "X_train, X_test, Y_train, Y_test = train_test_split(X, Y, test_size=0.3, random_state=42)\n",
    "# 归一化特征\n",
    "scaler = StandardScaler()\n",
    "X_train = scaler.fit_transform(X_train)\n",
    "X_test = scaler.transform(X_test)\n",
    "X_train.shape"
   ],
   "outputs": [
    {
     "data": {
      "text/plain": [
       "(87500, 12)"
      ]
     },
     "execution_count": 6,
     "metadata": {},
     "output_type": "execute_result"
    }
   ],
   "execution_count": 6
  },
  {
   "cell_type": "code",
   "id": "a7679bec",
   "metadata": {
    "ExecuteTime": {
     "end_time": "2024-10-22T10:30:11.456022Z",
     "start_time": "2024-10-22T10:24:42.846212Z"
    }
   },
   "source": [
    "# 创建SVM分类器\n",
    "clf = svm.SVC(kernel='linear')  # 使用线性核\n",
    "\n",
    "# 训练SVM分类器\n",
    "clf.fit(X_train, Y_train)\n",
    "\n",
    "# 在测试集上评估模型\n",
    "y_pred = clf.predict(X_test)\n",
    "print(\"Accuracy:\", accuracy_score(Y_test, y_pred))\n"
   ],
   "outputs": [
    {
     "name": "stdout",
     "output_type": "stream",
     "text": [
      "Accuracy: 0.9393066666666666\n"
     ]
    }
   ],
   "execution_count": 7
  },
  {
   "metadata": {
    "ExecuteTime": {
     "end_time": "2024-10-22T10:30:11.544940Z",
     "start_time": "2024-10-22T10:30:11.538844Z"
    }
   },
   "cell_type": "code",
   "source": "print(y_pred)",
   "id": "ae0496fa452778a1",
   "outputs": [
    {
     "name": "stdout",
     "output_type": "stream",
     "text": [
      "[1 1 0 ... 1 1 1]\n"
     ]
    }
   ],
   "execution_count": 8
  },
  {
   "cell_type": "code",
   "id": "6b45c162",
   "metadata": {
    "ExecuteTime": {
     "end_time": "2024-10-22T10:33:08.441231Z",
     "start_time": "2024-10-22T10:30:11.679220Z"
    }
   },
   "source": [
    "# 生成预测结果的图像\n",
    "predicted_mask = np.zeros_like(mask)\n",
    "for i in range(h):\n",
    "    for j in range(w):\n",
    "        pixel = image_rgb[i, j]\n",
    "        hsv_pixel = cv2.cvtColor(np.uint8([[pixel]]), cv2.COLOR_RGB2HSV)[0, 0]\n",
    "        texture_features = [\n",
    "            contrast[0, 0], dissimilarity[0, 0], homogeneity[0, 0],\n",
    "            energy[0, 0], correlation[0, 0], ASM[0, 0]\n",
    "        ]\n",
    "        feature_vector = np.array([\n",
    "            pixel[0], pixel[1], pixel[2],\n",
    "            hsv_pixel[0], hsv_pixel[1], hsv_pixel[2],\n",
    "            # i, j,\n",
    "            *texture_features\n",
    "        ]).reshape(1, -1)\n",
    "        feature_vector = scaler.transform(feature_vector)\n",
    "        predicted_mask[i, j] = clf.predict(feature_vector)[0]\n",
    "\n",
    "# 显示预测结果的图像\n",
    "plt.figure(figsize=(10, 5))\n",
    "plt.subplot(1, 2, 1)\n",
    "plt.title('Original Mask')\n",
    "plt.imshow(mask, cmap='gray')\n",
    "plt.axis('off')\n",
    "\n",
    "plt.subplot(1, 2, 2)\n",
    "plt.title('Predicted Mask')\n",
    "plt.imshow(predicted_mask, cmap='gray')\n",
    "plt.axis('off')\n",
    "\n",
    "plt.show()"
   ],
   "outputs": [
    {
     "data": {
      "text/plain": [
       "<Figure size 1000x500 with 2 Axes>"
      ],
      "image/png": "[encoded data removed]"
     },
     "metadata": {},
     "output_type": "display_data"
    }
   ],
   "execution_count": 9
  }
 ],
 "metadata": {
  "kernelspec": {
   "display_name": "PatternRecognition",
   "language": "python",
   "name": "python3"
  },
  "language_info": {
   "codemirror_mode": {
    "name": "ipython",
    "version": 3
   },
   "file_extension": ".py",
   "mimetype": "text/x-python",
   "name": "python",
   "nbconvert_exporter": "python",
   "pygments_lexer": "ipython3",
   "version": "3.11.10"
  }
 },
 "nbformat": 4,
 "nbformat_minor": 5
}
