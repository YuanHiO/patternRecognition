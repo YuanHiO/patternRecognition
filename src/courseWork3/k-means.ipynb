{
 "cells": [
  {
   "cell_type": "code",
   "execution_count": 6,
   "id": "initial_id",
   "metadata": {
    "collapsed": true
   },
   "outputs": [],
   "source": [
    "import numpy as np\n",
    "import cv2\n",
    "import matplotlib.pyplot as plt\n",
    "\n",
    "import time"
   ]
  },
  {
   "cell_type": "code",
   "execution_count": null,
   "id": "f5c07615",
   "metadata": {},
   "outputs": [
    {
     "data": {
      "text/plain": [
       "(125000, 3)"
      ]
     },
     "execution_count": 3,
     "metadata": {},
     "output_type": "execute_result"
    }
   ],
   "source": [
    "# 加载 .npz 文件,其中是通过点击不同区域打好的标注数据\n",
    "data = np.load('training_data.npz')\n",
    "# 提取数据\n",
    "trn_x = data['trnx']\n",
    "trn_y= data['trny']\n",
    "# 加完整mask图像\n",
    "image = cv2.imread('../../data/imgs/mask0618.png')\n",
    "# 转换为RGB格式（opencv读取为BGR）\n",
    "image_rgb = cv2.cvtColor(image, cv2.COLOR_BGR2RGB)\n",
    "test_x = np.array(image_rgb).reshape(-1,3)"
   ]
  },
  {
   "cell_type": "code",
   "execution_count": 4,
   "id": "53fa7262",
   "metadata": {},
   "outputs": [],
   "source": [
    "def loadImage(path):\n",
    "    image = cv2.imread(path)\n",
    "    image = cv2.cvtColor(image,cv2.COLOR_BGR2RGB)\n",
    "    return image\n",
    "\n",
    "def process_image(image):\n",
    "    data = image.reshape((-1,3))\n",
    "    return data\n"
   ]
  },
  {
   "cell_type": "code",
   "execution_count": null,
   "id": "f554d35f",
   "metadata": {},
   "outputs": [],
   "source": [
    "def init_centroids(data,K):\n",
    "    np.random.seed(42)\n",
    "    indices = np.random.choice(len(data), K, replace=False)\n",
    "    centroids = data[indices]\n",
    "    return centroids\n",
    "\n",
    "def assign_clusters(data, centroids):\n",
    "    distances = np.linalg.norm(data[:,np.newaxis] - centroids,axis=2)\n",
    "    clusterLabels = np.argmin(distances,axis=1)\n",
    "    return clusterLabels\n",
    "\n",
    "def update_centroids(data, clusterLabel, k):\n",
    "    newCentroid = np.array([data[clusterLabel == i].mean(axis=0) for i in range(k)])\n",
    "    return newCentroid\n",
    "\n",
    "def isConverged(oldCentroids, centroids, tolerence = 1e-5):\n",
    "    return np.linalg.norm(centroids - oldCentroids) < tolerence\n"
   ]
  },
  {
   "cell_type": "code",
   "execution_count": 8,
   "id": "5ed5a3cb",
   "metadata": {},
   "outputs": [],
   "source": [
    "def k_means(data, k, iter=100):\n",
    "\n",
    "    start = time.time()\n",
    "\n",
    "    centroids = init_centroids(data, k)\n",
    "    for i in range(iter):\n",
    "        labels = assign_clusters(data,centroids)\n",
    "        newCentroids = update_centroids(data,labels,k)\n",
    "        if isConverged(centroids,newCentroids):\n",
    "            break\n",
    "        centroids = newCentroids\n",
    "        \n",
    "        print(\"第\", i+1,\"次迭代\",\"用时：{0}\".format(time.time() - start))\n",
    "    return labels, centroids"
   ]
  },
  {
   "cell_type": "code",
   "execution_count": 9,
   "id": "6bf0ad8a",
   "metadata": {},
   "outputs": [],
   "source": [
    "# 显示聚类后的彩色图像\n",
    "def display_colored_clusters(image, labels, centroids):\n",
    "    segmented_image = centroids[labels].reshape(image.shape).astype(np.uint8)\n",
    "    plt.title(\"Colored Segmentation\")\n",
    "    plt.imshow(segmented_image)\n",
    "    plt.axis(\"off\")\n",
    "    plt.show()\n"
   ]
  },
  {
   "cell_type": "code",
   "execution_count": 10,
   "id": "c1eb8aec",
   "metadata": {},
   "outputs": [],
   "source": [
    "# 分离显示每个簇\n",
    "def display_separated_clusters(image, labels, k):\n",
    "    h, w, c = image.shape\n",
    "    fig, axes = plt.subplots(1, k, figsize=(15, 5))\n",
    "    for i in range(k):\n",
    "        cluster_image = np.zeros_like(image)\n",
    "        cluster_image = cluster_image.reshape(-1, 3)\n",
    "        cluster_image[labels == i] = image.reshape(-1, 3)[labels == i]\n",
    "        cluster_image = cluster_image.reshape(h, w, c)\n",
    "        \n",
    "        axes[i].imshow(cluster_image)\n",
    "        axes[i].set_title(f\"Cluster {i + 1}\")\n",
    "        axes[i].axis(\"off\")\n",
    "    plt.show()"
   ]
  },
  {
   "cell_type": "code",
   "execution_count": null,
   "id": "448e3beb",
   "metadata": {},
   "outputs": [],
   "source": []
  }
 ],
 "metadata": {
  "kernelspec": {
   "display_name": "PatternRecognition",
   "language": "python",
   "name": "python3"
  },
  "language_info": {
   "codemirror_mode": {
    "name": "ipython",
    "version": 3
   },
   "file_extension": ".py",
   "mimetype": "text/x-python",
   "name": "python",
   "nbconvert_exporter": "python",
   "pygments_lexer": "ipython3",
   "version": "3.11.10"
  }
 },
 "nbformat": 4,
 "nbformat_minor": 5
}
