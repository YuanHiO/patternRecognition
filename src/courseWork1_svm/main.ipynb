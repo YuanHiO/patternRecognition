{
 "cells": [
  {
   "cell_type": "code",
   "id": "74ecaf10c8cbae61",
   "metadata": {
    "ExecuteTime": {
     "end_time": "2024-11-05T08:11:16.844472Z",
     "start_time": "2024-11-05T08:11:15.617261Z"
    }
   },
   "source": [
    "import cv2\n",
    "import numpy as np\n",
    "import pandas as pd\n",
    "from sklearn.model_selection import train_test_split\n",
    "from sklearn.preprocessing import StandardScaler\n",
    "from sklearn import svm\n",
    "from sklearn.metrics import accuracy_score, precision_score, recall_score, f1_score, confusion_matrix\n",
    "import matplotlib.pyplot as plt\n",
    "from skimage.feature import graycomatrix, graycoprops"
   ],
   "outputs": [],
   "execution_count": 1
  },
  {
   "cell_type": "code",
   "id": "6360f98901c355d2",
   "metadata": {
    "ExecuteTime": {
     "end_time": "2024-11-05T08:11:16.856650Z",
     "start_time": "2024-11-05T08:11:16.849388Z"
    }
   },
   "source": [
    "# 加载图像\n",
    "image = cv2.imread('../../data/imgs/0618.png')\n",
    "# 转换为RGB格式（opencv读取为BGR）\n",
    "image_rgb = cv2.cvtColor(image, cv2.COLOR_BGR2RGB)"
   ],
   "outputs": [],
   "execution_count": 2
  },
  {
   "cell_type": "code",
   "id": "6cc6bfcfd9962e53",
   "metadata": {
    "ExecuteTime": {
     "end_time": "2024-11-05T08:11:16.952369Z",
     "start_time": "2024-11-05T08:11:16.948594Z"
    }
   },
   "source": [
    "# 加载生成的掩码\n",
    "mask = cv2.imread('../../data/imgs/mask0618.png', cv2.IMREAD_GRAYSCALE)"
   ],
   "outputs": [],
   "execution_count": 3
  },
  {
   "cell_type": "code",
   "id": "dec2f6ef",
   "metadata": {
    "ExecuteTime": {
     "end_time": "2024-11-05T08:11:16.973180Z",
     "start_time": "2024-11-05T08:11:16.959895Z"
    }
   },
   "source": [
    "Y = mask.flatten()\n",
    "Y = np.where(Y > 128, 1, 0)  # 1为道路，0为非道路\n",
    "# 将数组转换为Pandas Series\n",
    "series = pd.Series(Y)\n",
    "# 使用value_counts方法统计每个元素的出现次数\n",
    "value_counts = series.value_counts()\n",
    "# 输出分布情况\n",
    "print(value_counts)"
   ],
   "outputs": [
    {
     "name": "stdout",
     "output_type": "stream",
     "text": [
      "1    73382\n",
      "0    51618\n",
      "Name: count, dtype: int64\n"
     ]
    }
   ],
   "execution_count": 4
  },
  {
   "cell_type": "code",
   "id": "d79a419c00e0aace",
   "metadata": {
    "ExecuteTime": {
     "end_time": "2024-11-05T08:11:17.204116Z",
     "start_time": "2024-11-05T08:11:16.982218Z"
    }
   },
   "source": [
    "# 获取图像的尺寸\n",
    "h, w, _ = image_rgb.shape\n",
    "# 将掩码展开为一维向量\n",
    "# Y = mask.flatten()\n",
    "# Y = np.where(Y > 128, 1, 0)  # 1为道路，0为非道路\n",
    "# 转换到HSV颜色空间\n",
    "image_hsv = cv2.cvtColor(image_rgb, cv2.COLOR_RGB2HSV)\n",
    "\n",
    "# 转换到灰度图像\n",
    "image_gray = cv2.cvtColor(image_rgb, cv2.COLOR_RGB2GRAY)\n",
    "\n",
    "# 构建特征向量 (R, G, B, H, S, V, x, y, contrast, dissimilarity, homogeneity, energy, correlation, ASM)\n",
    "X = []\n",
    "for i in range(h):\n",
    "    for j in range(w):\n",
    "        pixel = image_rgb[i, j]\n",
    "        hsv_pixel = image_hsv[i, j]\n",
    "        \n",
    "        # 获取当前像素点的纹理特征\n",
    "        \n",
    "        X.append([\n",
    "            pixel[0], pixel[1], pixel[2], \n",
    "            hsv_pixel[0], hsv_pixel[1], hsv_pixel[2], \n",
    "            i, j,\n",
    "        ])\n",
    "\n",
    "# 将 X 转换为 numpy 数组\n",
    "X = np.array(X)\n",
    "\n",
    "# 打印特征向量的形状\n",
    "print(\"Feature vector shape:\", X.shape)\n",
    "print(X)\n"
   ],
   "outputs": [
    {
     "name": "stdout",
     "output_type": "stream",
     "text": [
      "Feature vector shape: (125000, 8)\n",
      "[[  3   3   3 ...   3   0   0]\n",
      " [ 11  11  11 ...  11   0   1]\n",
      " [ 10  10  10 ...  10   0   2]\n",
      " ...\n",
      " [ 87  83  87 ...  87 249 497]\n",
      " [ 88  84  87 ...  88 249 498]\n",
      " [ 20  17  19 ...  20 249 499]]\n"
     ]
    }
   ],
   "execution_count": 5
  },
  {
   "cell_type": "code",
   "id": "4d890bcb",
   "metadata": {
    "ExecuteTime": {
     "end_time": "2024-11-05T08:11:17.245882Z",
     "start_time": "2024-11-05T08:11:17.213531Z"
    }
   },
   "source": [
    "# 划分训练集和测试集\n",
    "X_train, X_test, Y_train, Y_test = train_test_split(X, Y, test_size=0.3, random_state=42)\n",
    "# 归一化特征\n",
    "scaler = StandardScaler()\n",
    "X_train = scaler.fit_transform(X_train)\n",
    "X_test = scaler.transform(X_test)\n",
    "X_train.shape"
   ],
   "outputs": [
    {
     "data": {
      "text/plain": [
       "(87500, 8)"
      ]
     },
     "execution_count": 6,
     "metadata": {},
     "output_type": "execute_result"
    }
   ],
   "execution_count": 6
  },
  {
   "cell_type": "code",
   "id": "a7679bec",
   "metadata": {
    "ExecuteTime": {
     "end_time": "2024-11-05T08:16:09.024821Z",
     "start_time": "2024-11-05T08:15:05.078473Z"
    }
   },
   "source": [
    "# 创建SVM分类器\n",
    "clf = svm.SVC(kernel='rbf')  # 使用线性核\n",
    "\n",
    "# 训练SVM分类器\n",
    "clf.fit(X_train, Y_train)\n",
    "\n",
    "# 在测试集上评估模型\n",
    "predictions = clf.predict(X_test)\n",
    "# print(\"Accuracy:\", accuracy_score(Y_test, predictions))\n",
    "# \n",
    "# # 计算评价指标\n",
    "# accuracy = accuracy_score(Y_test, predictions)\n",
    "# precision = precision_score(Y_test, predictions, average='weighted')  # 使用加权平均\n",
    "# recall = recall_score(Y_test, predictions, average='weighted')        # 使用加权平均\n",
    "# f1 = f1_score(Y_test, predictions, average='weighted')                # 使用加权平均\n",
    "# conf_matrix = confusion_matrix(Y_test, predictions)\n",
    "# \n",
    "# # 输出评价指标\n",
    "# print(f'Accuracy: {accuracy:.4f}')\n",
    "# print(f'Precision: {precision:.4f}')\n",
    "# print(f'Recall: {recall:.4f}')\n",
    "# print(f'F1 Score: {f1:.4f}')\n",
    "# print('Confusion Matrix:\\n', conf_matrix)\n",
    "# \n",
    "# print(\"Accuracy:\", accuracy_score(y_test, y_pred))\n",
    "cm = confusion_matrix(Y_test, predictions)\n",
    "print(\"Confusion Matrix:\\n\", cm)\n",
    "\n",
    "# 手动计算各项指标\n",
    "TP = cm[1, 1]\n",
    "FP = cm[0, 1]\n",
    "TN = cm[0, 0]\n",
    "FN = cm[1, 0]\n",
    "\n",
    "accuracy = (TP + TN) / (TP + FP + FN + TN)\n",
    "precision = TP / (TP + FP) if (TP + FP) > 0 else 0\n",
    "recall = TP / (TP + FN) if (TP + FN) > 0 else 0\n",
    "specificity = TN / (TN + FP) if (TN + FP) > 0 else 0\n",
    "f1 = 2 * (precision * recall) / (precision + recall) if (precision + recall) > 0 else 0\n",
    "\n",
    "print(f\"Accuracy: {accuracy}\")\n",
    "print(f\"Precision: {precision}\")\n",
    "print(f\"Recall: {recall}\")\n",
    "print(f\"Specificity: {specificity}\")\n",
    "print(f\"F1 Score: {f1}\")"
   ],
   "outputs": [
    {
     "name": "stdout",
     "output_type": "stream",
     "text": [
      "Confusion Matrix:\n",
      " [[15163   354]\n",
      " [  277 21706]]\n",
      "Accuracy: 0.9831733333333333\n",
      "Precision: 0.9839528558476881\n",
      "Recall: 0.9873993540463085\n",
      "Specificity: 0.9771863117870723\n",
      "F1 Score: 0.9856730922053447\n"
     ]
    }
   ],
   "execution_count": 9
  },
  {
   "cell_type": "code",
   "id": "6b45c162",
   "metadata": {
    "ExecuteTime": {
     "end_time": "2024-11-05T08:13:45.460943Z",
     "start_time": "2024-11-05T08:12:21.330677Z"
    }
   },
   "source": [
    "# 生成预测结果的图像\n",
    "predicted_mask = np.zeros_like(mask)\n",
    "for i in range(h):\n",
    "    for j in range(w):\n",
    "        pixel = image_rgb[i, j]\n",
    "        hsv_pixel = cv2.cvtColor(np.uint8([[pixel]]), cv2.COLOR_RGB2HSV)[0, 0]\n",
    "        feature_vector = np.array([\n",
    "            pixel[0], pixel[1], pixel[2],\n",
    "            hsv_pixel[0], hsv_pixel[1], hsv_pixel[2],\n",
    "            i, j,\n",
    "        ]).reshape(1, -1)\n",
    "        feature_vector = scaler.transform(feature_vector)\n",
    "        predicted_mask[i, j] = clf.predict(feature_vector)[0]\n",
    "\n",
    "# 显示预测结果的图像\n",
    "plt.figure(figsize=(10, 5))\n",
    "plt.subplot(1, 2, 1)\n",
    "plt.title('Original Mask')\n",
    "plt.imshow(mask, cmap='gray')\n",
    "plt.axis('off')\n",
    "\n",
    "plt.subplot(1, 2, 2)\n",
    "plt.title('Predicted Mask')\n",
    "plt.imshow(predicted_mask, cmap='gray')\n",
    "plt.axis('off')\n",
    "\n",
    "plt.show()"
   ],
   "outputs": [
    {
     "data": {
      "text/plain": [
       "<Figure size 1000x500 with 2 Axes>"
      ],
      "image/png": "[encoded data removed]"
     },
     "metadata": {},
     "output_type": "display_data"
    }
   ],
   "execution_count": 8
  }
 ],
 "metadata": {
  "kernelspec": {
   "display_name": "PatternRecognition",
   "language": "python",
   "name": "python3"
  },
  "language_info": {
   "codemirror_mode": {
    "name": "ipython",
    "version": 3
   },
   "file_extension": ".py",
   "mimetype": "text/x-python",
   "name": "python",
   "nbconvert_exporter": "python",
   "pygments_lexer": "ipython3",
   "version": "3.11.10"
  }
 },
 "nbformat": 4,
 "nbformat_minor": 5
}
